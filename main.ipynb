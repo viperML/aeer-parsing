{
 "cells": [
  {
   "cell_type": "code",
   "execution_count": 1,
   "metadata": {},
   "outputs": [
    {
     "name": "stderr",
     "output_type": "stream",
     "text": [
      "\u001b[32m\u001b[1m  Activating\u001b[22m\u001b[39m project at `c:\\Users\\ayats\\Documents\\aeer-parsing`\n"
     ]
    }
   ],
   "source": [
    "using Pkg\n",
    "\n",
    "Pkg.activate(@__DIR__)\n",
    "Pkg.instantiate()"
   ]
  },
  {
   "cell_type": "code",
   "execution_count": 3,
   "metadata": {},
   "outputs": [
    {
     "data": {
      "text/html": [
       "<div><div style = \"float: left;\"><span>4463×2 DataFrame</span></div><div style = \"float: right;\"><span style = \"font-style: italic;\">4438 rows omitted</span></div><div style = \"clear: both;\"></div></div><div class = \"data-frame\" style = \"overflow-x: scroll;\"><table class = \"data-frame\" style = \"margin-bottom: 6px;\"><thead><tr class = \"header\"><th class = \"rowNumber\" style = \"font-weight: bold; text-align: right;\">Row</th><th style = \"text-align: left;\">2009;1;2009-1-1</th><th style = \"text-align: left;\">00:00:00;0;2.241;328;24.64;3.571;322.1;25.54;</th></tr><tr class = \"subheader headerLastRow\"><th class = \"rowNumber\" style = \"font-weight: bold; text-align: right;\"></th><th title = \"InlineStrings.String31\" style = \"text-align: left;\">String31</th><th title = \"String\" style = \"text-align: left;\">String</th></tr></thead><tbody><tr><td class = \"rowNumber\" style = \"font-weight: bold; text-align: right;\">1</td><td style = \"text-align: left;\">2009;1;2009-1-1</td><td style = \"text-align: left;\">00:10:00;10;2.386;351.4;24.29;3.29;342;24.96;</td></tr><tr><td class = \"rowNumber\" style = \"font-weight: bold; text-align: right;\">2</td><td style = \"text-align: left;\">2009;1;2009-1-1</td><td style = \"text-align: left;\">00:20:00;20;1.907;355.1;24.19;2.996;341.3;25.07;</td></tr><tr><td class = \"rowNumber\" style = \"font-weight: bold; text-align: right;\">3</td><td style = \"text-align: left;\">2009;1;2009-1-1</td><td style = \"text-align: left;\">00:30:00;30;1.113;84.9;24.24;1.613;0.517;25.16;</td></tr><tr><td class = \"rowNumber\" style = \"font-weight: bold; text-align: right;\">4</td><td style = \"text-align: left;\">2009;1;2009-1-1</td><td style = \"text-align: left;\">00:40:00;40;4.031;173.4;24.76;4.694;177.7;25.18;</td></tr><tr><td class = \"rowNumber\" style = \"font-weight: bold; text-align: right;\">5</td><td style = \"text-align: left;\">2009;1;2009-1-1</td><td style = \"text-align: left;\">00:50:00;50;1.185;241.9;25.97;1.447;198.3;25.98;</td></tr><tr><td class = \"rowNumber\" style = \"font-weight: bold; text-align: right;\">6</td><td style = \"text-align: left;\">2009;1;2009-1-1</td><td style = \"text-align: left;\">01:00:00;60;1.727;56.83;25.16;2.488;90.4;25.04;</td></tr><tr><td class = \"rowNumber\" style = \"font-weight: bold; text-align: right;\">7</td><td style = \"text-align: left;\">2009;1;2009-1-1</td><td style = \"text-align: left;\">01:10:00;70;2.053;32.83;25.48;1.88;49.17;25.78;</td></tr><tr><td class = \"rowNumber\" style = \"font-weight: bold; text-align: right;\">8</td><td style = \"text-align: left;\">2009;1;2009-1-1</td><td style = \"text-align: left;\">01:20:00;80;1.76;27.14;25.32;2.135;47.11;25.96;</td></tr><tr><td class = \"rowNumber\" style = \"font-weight: bold; text-align: right;\">9</td><td style = \"text-align: left;\">2009;1;2009-1-1</td><td style = \"text-align: left;\">01:30:00;90;2.207;353.9;25.81;2.958;358.2;26.39;</td></tr><tr><td class = \"rowNumber\" style = \"font-weight: bold; text-align: right;\">10</td><td style = \"text-align: left;\">2009;1;2009-1-1</td><td style = \"text-align: left;\">01:40:00;100;2.628;322.5;25.98;4.047;321.7;26.16;</td></tr><tr><td class = \"rowNumber\" style = \"font-weight: bold; text-align: right;\">11</td><td style = \"text-align: left;\">2009;1;2009-1-1</td><td style = \"text-align: left;\">01:50:00;110;3.135;322.8;25.22;5.443;325.8;25.26;</td></tr><tr><td class = \"rowNumber\" style = \"font-weight: bold; text-align: right;\">12</td><td style = \"text-align: left;\">2009;1;2009-1-1</td><td style = \"text-align: left;\">02:00:00;120;2.688;322.5;24.74;5.29;324.7;24.81;</td></tr><tr><td class = \"rowNumber\" style = \"font-weight: bold; text-align: right;\">13</td><td style = \"text-align: left;\">2009;1;2009-1-1</td><td style = \"text-align: left;\">02:10:00;130;3.323;310.9;24.53;5.493;318;24.49;</td></tr><tr><td style = \"text-align: right;\">&vellip;</td><td style = \"text-align: right;\">&vellip;</td><td style = \"text-align: right;\">&vellip;</td></tr><tr><td class = \"rowNumber\" style = \"font-weight: bold; text-align: right;\">4452</td><td style = \"text-align: left;\">2009;31;2009-1-31</td><td style = \"text-align: left;\">22:00:00;1320;1.935;4.303;-7.53;2.889;7.21;25.6;</td></tr><tr><td class = \"rowNumber\" style = \"font-weight: bold; text-align: right;\">4453</td><td style = \"text-align: left;\">2009;31;2009-1-31</td><td style = \"text-align: left;\">22:10:00;1330;1.806;351.5;-8.44;2.598;355.6;25.68;</td></tr><tr><td class = \"rowNumber\" style = \"font-weight: bold; text-align: right;\">4454</td><td style = \"text-align: left;\">2009;31;2009-1-31</td><td style = \"text-align: left;\">22:20:00;1340;1.807;345.9;-9.68;2.528;347.9;25.68;</td></tr><tr><td class = \"rowNumber\" style = \"font-weight: bold; text-align: right;\">4455</td><td style = \"text-align: left;\">2009;31;2009-1-31</td><td style = \"text-align: left;\">22:30:00;1350;2.286;338.1;-9.24;3.16;342.6;25.73;</td></tr><tr><td class = \"rowNumber\" style = \"font-weight: bold; text-align: right;\">4456</td><td style = \"text-align: left;\">2009;31;2009-1-31</td><td style = \"text-align: left;\">22:40:00;1360;0.913;343.4;-8.52;1.663;343.6;25.44;</td></tr><tr><td class = \"rowNumber\" style = \"font-weight: bold; text-align: right;\">4457</td><td style = \"text-align: left;\">2009;31;2009-1-31</td><td style = \"text-align: left;\">22:50:00;1370;0.356;117.5;-9.66;0.597;111.6;25.06;</td></tr><tr><td class = \"rowNumber\" style = \"font-weight: bold; text-align: right;\">4458</td><td style = \"text-align: left;\">2009;31;2009-1-31</td><td style = \"text-align: left;\">23:00:00;1380;0.708;205.6;-10.23;0.808;223.5;24.93;</td></tr><tr><td class = \"rowNumber\" style = \"font-weight: bold; text-align: right;\">4459</td><td style = \"text-align: left;\">2009;31;2009-1-31</td><td style = \"text-align: left;\">23:10:00;1390;2.151;271.9;-9.87;2.572;284.1;24.42;</td></tr><tr><td class = \"rowNumber\" style = \"font-weight: bold; text-align: right;\">4460</td><td style = \"text-align: left;\">2009;31;2009-1-31</td><td style = \"text-align: left;\">23:20:00;1400;1.893;263.3;-9.87;2.538;280;23.99;</td></tr><tr><td class = \"rowNumber\" style = \"font-weight: bold; text-align: right;\">4461</td><td style = \"text-align: left;\">2009;31;2009-1-31</td><td style = \"text-align: left;\">23:30:00;1410;2.33;258.2;-9.55;3.098;277.6;23.55;</td></tr><tr><td class = \"rowNumber\" style = \"font-weight: bold; text-align: right;\">4462</td><td style = \"text-align: left;\">2009;31;2009-1-31</td><td style = \"text-align: left;\">23:40:00;1420;1.886;272.8;-9.66;3.018;294.7;23.44;</td></tr><tr><td class = \"rowNumber\" style = \"font-weight: bold; text-align: right;\">4463</td><td style = \"text-align: left;\">2009;31;2009-1-31</td><td style = \"text-align: left;\">23:50:00;1430;2.434;301.6;-9.3;3.196;309;23.74;</td></tr></tbody></table></div>"
      ],
      "text/latex": [
       "\\begin{tabular}{r|cc}\n",
       "\t& 2009;1;2009-1-1 & 00:00:00;0;2.241;328;24.64;3.571;322.1;25.54;\\\\\n",
       "\t\\hline\n",
       "\t& String31 & String\\\\\n",
       "\t\\hline\n",
       "\t1 & 2009;1;2009-1-1 & 00:10:00;10;2.386;351.4;24.29;3.29;342;24.96; \\\\\n",
       "\t2 & 2009;1;2009-1-1 & 00:20:00;20;1.907;355.1;24.19;2.996;341.3;25.07; \\\\\n",
       "\t3 & 2009;1;2009-1-1 & 00:30:00;30;1.113;84.9;24.24;1.613;0.517;25.16; \\\\\n",
       "\t4 & 2009;1;2009-1-1 & 00:40:00;40;4.031;173.4;24.76;4.694;177.7;25.18; \\\\\n",
       "\t5 & 2009;1;2009-1-1 & 00:50:00;50;1.185;241.9;25.97;1.447;198.3;25.98; \\\\\n",
       "\t6 & 2009;1;2009-1-1 & 01:00:00;60;1.727;56.83;25.16;2.488;90.4;25.04; \\\\\n",
       "\t7 & 2009;1;2009-1-1 & 01:10:00;70;2.053;32.83;25.48;1.88;49.17;25.78; \\\\\n",
       "\t8 & 2009;1;2009-1-1 & 01:20:00;80;1.76;27.14;25.32;2.135;47.11;25.96; \\\\\n",
       "\t9 & 2009;1;2009-1-1 & 01:30:00;90;2.207;353.9;25.81;2.958;358.2;26.39; \\\\\n",
       "\t10 & 2009;1;2009-1-1 & 01:40:00;100;2.628;322.5;25.98;4.047;321.7;26.16; \\\\\n",
       "\t11 & 2009;1;2009-1-1 & 01:50:00;110;3.135;322.8;25.22;5.443;325.8;25.26; \\\\\n",
       "\t12 & 2009;1;2009-1-1 & 02:00:00;120;2.688;322.5;24.74;5.29;324.7;24.81; \\\\\n",
       "\t13 & 2009;1;2009-1-1 & 02:10:00;130;3.323;310.9;24.53;5.493;318;24.49; \\\\\n",
       "\t14 & 2009;1;2009-1-1 & 02:20:00;140;4.914;308.2;24.33;7.31;315.7;24.2; \\\\\n",
       "\t15 & 2009;1;2009-1-1 & 02:30:00;150;4.595;308.1;23.36;7;318.1;23.13; \\\\\n",
       "\t16 & 2009;1;2009-1-1 & 02:40:00;160;4.062;317.4;22.14;6.903;326;22.09; \\\\\n",
       "\t17 & 2009;1;2009-1-1 & 02:50:00;170;3.746;311.6;21.89;5.758;320.7;21.93; \\\\\n",
       "\t18 & 2009;1;2009-1-1 & 03:00:00;180;4.154;300.1;21.74;6.427;309.6;21.7; \\\\\n",
       "\t19 & 2009;1;2009-1-1 & 03:10:00;190;3.14;279.2;21.85;4.912;286;21.76; \\\\\n",
       "\t20 & 2009;1;2009-1-1 & 03:20:00;200;3.032;274.4;21.96;4.657;283;21.87; \\\\\n",
       "\t21 & 2009;1;2009-1-1 & 03:30:00;210;3.549;252.6;22.08;4.993;266.7;22; \\\\\n",
       "\t22 & 2009;1;2009-1-1 & 03:40:00;220;2.454;264.8;22.05;3.945;270.7;21.94; \\\\\n",
       "\t23 & 2009;1;2009-1-1 & 03:50:00;230;2.101;262.1;21.98;3.032;266.9;21.85; \\\\\n",
       "\t24 & 2009;1;2009-1-1 & 04:00:00;240;1.879;275.1;21.83;2.638;276.4;21.69; \\\\\n",
       "\t$\\dots$ & $\\dots$ & $\\dots$ \\\\\n",
       "\\end{tabular}\n"
      ],
      "text/plain": [
       "\u001b[1m4463×2 DataFrame\u001b[0m\n",
       "\u001b[1m  Row \u001b[0m│\u001b[1m 2009;1;2009-1-1   \u001b[0m\u001b[1m 00:00:00;0;2.241;328;24.64;3.571;322.1;25.54; \u001b[0m\n",
       "      │\u001b[90m String31          \u001b[0m\u001b[90m String                                        \u001b[0m\n",
       "──────┼──────────────────────────────────────────────────────────────────\n",
       "    1 │ 2009;1;2009-1-1    00:10:00;10;2.386;351.4;24.29;3.29;342;24.96;\n",
       "    2 │ 2009;1;2009-1-1    00:20:00;20;1.907;355.1;24.19;2.996;341.3;25…\n",
       "    3 │ 2009;1;2009-1-1    00:30:00;30;1.113;84.9;24.24;1.613;0.517;25.…\n",
       "    4 │ 2009;1;2009-1-1    00:40:00;40;4.031;173.4;24.76;4.694;177.7;25…\n",
       "    5 │ 2009;1;2009-1-1    00:50:00;50;1.185;241.9;25.97;1.447;198.3;25…\n",
       "    6 │ 2009;1;2009-1-1    01:00:00;60;1.727;56.83;25.16;2.488;90.4;25.…\n",
       "    7 │ 2009;1;2009-1-1    01:10:00;70;2.053;32.83;25.48;1.88;49.17;25.…\n",
       "    8 │ 2009;1;2009-1-1    01:20:00;80;1.76;27.14;25.32;2.135;47.11;25.…\n",
       "  ⋮   │         ⋮                                ⋮\n",
       " 4457 │ 2009;31;2009-1-31  22:50:00;1370;0.356;117.5;-9.66;0.597;111.6;…\n",
       " 4458 │ 2009;31;2009-1-31  23:00:00;1380;0.708;205.6;-10.23;0.808;223.5…\n",
       " 4459 │ 2009;31;2009-1-31  23:10:00;1390;2.151;271.9;-9.87;2.572;284.1;…\n",
       " 4460 │ 2009;31;2009-1-31  23:20:00;1400;1.893;263.3;-9.87;2.538;280;23…\n",
       " 4461 │ 2009;31;2009-1-31  23:30:00;1410;2.33;258.2;-9.55;3.098;277.6;2…\n",
       " 4462 │ 2009;31;2009-1-31  23:40:00;1420;1.886;272.8;-9.66;3.018;294.7;…\n",
       " 4463 │ 2009;31;2009-1-31  23:50:00;1430;2.434;301.6;-9.3;3.196;309;23.…\n",
       "\u001b[36m                                                        4448 rows omitted\u001b[0m"
      ]
     },
     "metadata": {},
     "output_type": "display_data"
    }
   ],
   "source": [
    "import CSV as CSV\n",
    "import DataFrames: DataFrame\n",
    "\n",
    "CSV.read(\"./data/ORN0901WD.csv\", DataFrame)"
   ]
  }
 ],
 "metadata": {
  "kernelspec": {
   "display_name": "Julia 1.8.5",
   "language": "julia",
   "name": "julia-1.8"
  },
  "language_info": {
   "file_extension": ".jl",
   "mimetype": "application/julia",
   "name": "julia",
   "version": "1.8.5"
  },
  "orig_nbformat": 4
 },
 "nbformat": 4,
 "nbformat_minor": 2
}
