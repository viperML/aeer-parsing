{
 "cells": [
  {
   "cell_type": "code",
   "execution_count": 1,
   "metadata": {},
   "outputs": [
    {
     "name": "stderr",
     "output_type": "stream",
     "text": [
      "\u001b[32m\u001b[1m  Activating\u001b[22m\u001b[39m project at `c:\\Users\\ayats\\Documents\\aeer-parsing`"
     ]
    },
    {
     "name": "stderr",
     "output_type": "stream",
     "text": [
      "\n"
     ]
    }
   ],
   "source": [
    "using Pkg\n",
    "\n",
    "Pkg.activate(@__DIR__)\n",
    "Pkg.instantiate()"
   ]
  },
  {
   "cell_type": "code",
   "execution_count": 54,
   "metadata": {},
   "outputs": [
    {
     "data": {
      "text/html": [
       "<div><div style = \"float: left;\"><span>52560×10 DataFrame</span></div><div style = \"float: right;\"><span style = \"font-style: italic;\">52535 rows omitted</span></div><div style = \"clear: both;\"></div></div><div class = \"data-frame\" style = \"overflow-x: scroll;\"><table class = \"data-frame\" style = \"margin-bottom: 6px;\"><thead><tr class = \"header\"><th class = \"rowNumber\" style = \"font-weight: bold; text-align: right;\">Row</th><th style = \"text-align: left;\">year</th><th style = \"text-align: left;\">day</th><th style = \"text-align: left;\">datetm</th><th style = \"text-align: left;\">min</th><th style = \"text-align: left;\">ws_25</th><th style = \"text-align: left;\">wd_25</th><th style = \"text-align: left;\">tp_25</th><th style = \"text-align: left;\">ws_50</th><th style = \"text-align: left;\">wd_50</th><th style = \"text-align: left;\">tp_50</th></tr><tr class = \"subheader headerLastRow\"><th class = \"rowNumber\" style = \"font-weight: bold; text-align: right;\"></th><th title = \"Int64\" style = \"text-align: left;\">Int64</th><th title = \"Int64\" style = \"text-align: left;\">Int64</th><th title = \"Dates.DateTime\" style = \"text-align: left;\">DateTime</th><th title = \"Int64\" style = \"text-align: left;\">Int64</th><th title = \"Any\" style = \"text-align: left;\">Any</th><th title = \"Any\" style = \"text-align: left;\">Any</th><th title = \"Any\" style = \"text-align: left;\">Any</th><th title = \"Any\" style = \"text-align: left;\">Any</th><th title = \"Any\" style = \"text-align: left;\">Any</th><th title = \"Any\" style = \"text-align: left;\">Any</th></tr></thead><tbody><tr><td class = \"rowNumber\" style = \"font-weight: bold; text-align: right;\">1</td><td style = \"text-align: right;\">2009</td><td style = \"text-align: right;\">1</td><td style = \"text-align: left;\">2009-01-01T00:00:00</td><td style = \"text-align: right;\">0</td><td style = \"text-align: left;\">2.241</td><td style = \"text-align: left;\">328.0</td><td style = \"text-align: left;\">24.64</td><td style = \"text-align: left;\">3.571</td><td style = \"text-align: left;\">322.1</td><td style = \"text-align: left;\">25.54</td></tr><tr><td class = \"rowNumber\" style = \"font-weight: bold; text-align: right;\">2</td><td style = \"text-align: right;\">2009</td><td style = \"text-align: right;\">1</td><td style = \"text-align: left;\">2009-01-01T00:10:00</td><td style = \"text-align: right;\">10</td><td style = \"text-align: left;\">2.386</td><td style = \"text-align: left;\">351.4</td><td style = \"text-align: left;\">24.29</td><td style = \"text-align: left;\">3.29</td><td style = \"text-align: left;\">342.0</td><td style = \"text-align: left;\">24.96</td></tr><tr><td class = \"rowNumber\" style = \"font-weight: bold; text-align: right;\">3</td><td style = \"text-align: right;\">2009</td><td style = \"text-align: right;\">1</td><td style = \"text-align: left;\">2009-01-01T00:20:00</td><td style = \"text-align: right;\">20</td><td style = \"text-align: left;\">1.907</td><td style = \"text-align: left;\">355.1</td><td style = \"text-align: left;\">24.19</td><td style = \"text-align: left;\">2.996</td><td style = \"text-align: left;\">341.3</td><td style = \"text-align: left;\">25.07</td></tr><tr><td class = \"rowNumber\" style = \"font-weight: bold; text-align: right;\">4</td><td style = \"text-align: right;\">2009</td><td style = \"text-align: right;\">1</td><td style = \"text-align: left;\">2009-01-01T00:30:00</td><td style = \"text-align: right;\">30</td><td style = \"text-align: left;\">1.113</td><td style = \"text-align: left;\">84.9</td><td style = \"text-align: left;\">24.24</td><td style = \"text-align: left;\">1.613</td><td style = \"text-align: left;\">0.517</td><td style = \"text-align: left;\">25.16</td></tr><tr><td class = \"rowNumber\" style = \"font-weight: bold; text-align: right;\">5</td><td style = \"text-align: right;\">2009</td><td style = \"text-align: right;\">1</td><td style = \"text-align: left;\">2009-01-01T00:40:00</td><td style = \"text-align: right;\">40</td><td style = \"text-align: left;\">4.031</td><td style = \"text-align: left;\">173.4</td><td style = \"text-align: left;\">24.76</td><td style = \"text-align: left;\">4.694</td><td style = \"text-align: left;\">177.7</td><td style = \"text-align: left;\">25.18</td></tr><tr><td class = \"rowNumber\" style = \"font-weight: bold; text-align: right;\">6</td><td style = \"text-align: right;\">2009</td><td style = \"text-align: right;\">1</td><td style = \"text-align: left;\">2009-01-01T00:50:00</td><td style = \"text-align: right;\">50</td><td style = \"text-align: left;\">1.185</td><td style = \"text-align: left;\">241.9</td><td style = \"text-align: left;\">25.97</td><td style = \"text-align: left;\">1.447</td><td style = \"text-align: left;\">198.3</td><td style = \"text-align: left;\">25.98</td></tr><tr><td class = \"rowNumber\" style = \"font-weight: bold; text-align: right;\">7</td><td style = \"text-align: right;\">2009</td><td style = \"text-align: right;\">1</td><td style = \"text-align: left;\">2009-01-01T01:00:00</td><td style = \"text-align: right;\">60</td><td style = \"text-align: left;\">1.727</td><td style = \"text-align: left;\">56.83</td><td style = \"text-align: left;\">25.16</td><td style = \"text-align: left;\">2.488</td><td style = \"text-align: left;\">90.4</td><td style = \"text-align: left;\">25.04</td></tr><tr><td class = \"rowNumber\" style = \"font-weight: bold; text-align: right;\">8</td><td style = \"text-align: right;\">2009</td><td style = \"text-align: right;\">1</td><td style = \"text-align: left;\">2009-01-01T01:10:00</td><td style = \"text-align: right;\">70</td><td style = \"text-align: left;\">2.053</td><td style = \"text-align: left;\">32.83</td><td style = \"text-align: left;\">25.48</td><td style = \"text-align: left;\">1.88</td><td style = \"text-align: left;\">49.17</td><td style = \"text-align: left;\">25.78</td></tr><tr><td class = \"rowNumber\" style = \"font-weight: bold; text-align: right;\">9</td><td style = \"text-align: right;\">2009</td><td style = \"text-align: right;\">1</td><td style = \"text-align: left;\">2009-01-01T01:20:00</td><td style = \"text-align: right;\">80</td><td style = \"text-align: left;\">1.76</td><td style = \"text-align: left;\">27.14</td><td style = \"text-align: left;\">25.32</td><td style = \"text-align: left;\">2.135</td><td style = \"text-align: left;\">47.11</td><td style = \"text-align: left;\">25.96</td></tr><tr><td class = \"rowNumber\" style = \"font-weight: bold; text-align: right;\">10</td><td style = \"text-align: right;\">2009</td><td style = \"text-align: right;\">1</td><td style = \"text-align: left;\">2009-01-01T01:30:00</td><td style = \"text-align: right;\">90</td><td style = \"text-align: left;\">2.207</td><td style = \"text-align: left;\">353.9</td><td style = \"text-align: left;\">25.81</td><td style = \"text-align: left;\">2.958</td><td style = \"text-align: left;\">358.2</td><td style = \"text-align: left;\">26.39</td></tr><tr><td class = \"rowNumber\" style = \"font-weight: bold; text-align: right;\">11</td><td style = \"text-align: right;\">2009</td><td style = \"text-align: right;\">1</td><td style = \"text-align: left;\">2009-01-01T01:40:00</td><td style = \"text-align: right;\">100</td><td style = \"text-align: left;\">2.628</td><td style = \"text-align: left;\">322.5</td><td style = \"text-align: left;\">25.98</td><td style = \"text-align: left;\">4.047</td><td style = \"text-align: left;\">321.7</td><td style = \"text-align: left;\">26.16</td></tr><tr><td class = \"rowNumber\" style = \"font-weight: bold; text-align: right;\">12</td><td style = \"text-align: right;\">2009</td><td style = \"text-align: right;\">1</td><td style = \"text-align: left;\">2009-01-01T01:50:00</td><td style = \"text-align: right;\">110</td><td style = \"text-align: left;\">3.135</td><td style = \"text-align: left;\">322.8</td><td style = \"text-align: left;\">25.22</td><td style = \"text-align: left;\">5.443</td><td style = \"text-align: left;\">325.8</td><td style = \"text-align: left;\">25.26</td></tr><tr><td class = \"rowNumber\" style = \"font-weight: bold; text-align: right;\">13</td><td style = \"text-align: right;\">2009</td><td style = \"text-align: right;\">1</td><td style = \"text-align: left;\">2009-01-01T02:00:00</td><td style = \"text-align: right;\">120</td><td style = \"text-align: left;\">2.688</td><td style = \"text-align: left;\">322.5</td><td style = \"text-align: left;\">24.74</td><td style = \"text-align: left;\">5.29</td><td style = \"text-align: left;\">324.7</td><td style = \"text-align: left;\">24.81</td></tr><tr><td style = \"text-align: right;\">&vellip;</td><td style = \"text-align: right;\">&vellip;</td><td style = \"text-align: right;\">&vellip;</td><td style = \"text-align: right;\">&vellip;</td><td style = \"text-align: right;\">&vellip;</td><td style = \"text-align: right;\">&vellip;</td><td style = \"text-align: right;\">&vellip;</td><td style = \"text-align: right;\">&vellip;</td><td style = \"text-align: right;\">&vellip;</td><td style = \"text-align: right;\">&vellip;</td><td style = \"text-align: right;\">&vellip;</td></tr><tr><td class = \"rowNumber\" style = \"font-weight: bold; text-align: right;\">52549</td><td style = \"text-align: right;\">2009</td><td style = \"text-align: right;\">365</td><td style = \"text-align: left;\">2009-12-31T22:00:00</td><td style = \"text-align: right;\">1320</td><td style = \"text-align: left;\">-12.42</td><td style = \"text-align: left;\">270.4</td><td style = \"text-align: left;\">-74.9</td><td style = \"text-align: left;\">3.274</td><td style = \"text-align: left;\">167.7</td><td style = \"text-align: left;\">23.87</td></tr><tr><td class = \"rowNumber\" style = \"font-weight: bold; text-align: right;\">52550</td><td style = \"text-align: right;\">2009</td><td style = \"text-align: right;\">365</td><td style = \"text-align: left;\">2009-12-31T22:10:00</td><td style = \"text-align: right;\">1330</td><td style = \"text-align: left;\">-12.42</td><td style = \"text-align: left;\">270.4</td><td style = \"text-align: left;\">-74.9</td><td style = \"text-align: left;\">3.523</td><td style = \"text-align: left;\">145.8</td><td style = \"text-align: left;\">24.06</td></tr><tr><td class = \"rowNumber\" style = \"font-weight: bold; text-align: right;\">52551</td><td style = \"text-align: right;\">2009</td><td style = \"text-align: right;\">365</td><td style = \"text-align: left;\">2009-12-31T22:20:00</td><td style = \"text-align: right;\">1340</td><td style = \"text-align: left;\">-12.42</td><td style = \"text-align: left;\">270.4</td><td style = \"text-align: left;\">-74.9</td><td style = \"text-align: left;\">3.195</td><td style = \"text-align: left;\">129.9</td><td style = \"text-align: left;\">24.17</td></tr><tr><td class = \"rowNumber\" style = \"font-weight: bold; text-align: right;\">52552</td><td style = \"text-align: right;\">2009</td><td style = \"text-align: right;\">365</td><td style = \"text-align: left;\">2009-12-31T22:30:00</td><td style = \"text-align: right;\">1350</td><td style = \"text-align: left;\">-12.43</td><td style = \"text-align: left;\">270.4</td><td style = \"text-align: left;\">-74.9</td><td style = \"text-align: left;\">3.44</td><td style = \"text-align: left;\">124.7</td><td style = \"text-align: left;\">24.24</td></tr><tr><td class = \"rowNumber\" style = \"font-weight: bold; text-align: right;\">52553</td><td style = \"text-align: right;\">2009</td><td style = \"text-align: right;\">365</td><td style = \"text-align: left;\">2009-12-31T22:40:00</td><td style = \"text-align: right;\">1360</td><td style = \"text-align: left;\">-12.43</td><td style = \"text-align: left;\">270.4</td><td style = \"text-align: left;\">-74.9</td><td style = \"text-align: left;\">3.686</td><td style = \"text-align: left;\">124.7</td><td style = \"text-align: left;\">24.21</td></tr><tr><td class = \"rowNumber\" style = \"font-weight: bold; text-align: right;\">52554</td><td style = \"text-align: right;\">2009</td><td style = \"text-align: right;\">365</td><td style = \"text-align: left;\">2009-12-31T22:50:00</td><td style = \"text-align: right;\">1370</td><td style = \"text-align: left;\">-12.43</td><td style = \"text-align: left;\">270.4</td><td style = \"text-align: left;\">-74.9</td><td style = \"text-align: left;\">4.07</td><td style = \"text-align: left;\">126.5</td><td style = \"text-align: left;\">24.15</td></tr><tr><td class = \"rowNumber\" style = \"font-weight: bold; text-align: right;\">52555</td><td style = \"text-align: right;\">2009</td><td style = \"text-align: right;\">365</td><td style = \"text-align: left;\">2009-12-31T23:00:00</td><td style = \"text-align: right;\">1380</td><td style = \"text-align: left;\">-12.44</td><td style = \"text-align: left;\">270.4</td><td style = \"text-align: left;\">-74.9</td><td style = \"text-align: left;\">3.872</td><td style = \"text-align: left;\">126.0</td><td style = \"text-align: left;\">24.04</td></tr><tr><td class = \"rowNumber\" style = \"font-weight: bold; text-align: right;\">52556</td><td style = \"text-align: right;\">2009</td><td style = \"text-align: right;\">365</td><td style = \"text-align: left;\">2009-12-31T23:10:00</td><td style = \"text-align: right;\">1390</td><td style = \"text-align: left;\">-12.44</td><td style = \"text-align: left;\">270.4</td><td style = \"text-align: left;\">-74.9</td><td style = \"text-align: left;\">4.288</td><td style = \"text-align: left;\">126.0</td><td style = \"text-align: left;\">23.92</td></tr><tr><td class = \"rowNumber\" style = \"font-weight: bold; text-align: right;\">52557</td><td style = \"text-align: right;\">2009</td><td style = \"text-align: right;\">365</td><td style = \"text-align: left;\">2009-12-31T23:20:00</td><td style = \"text-align: right;\">1400</td><td style = \"text-align: left;\">-12.44</td><td style = \"text-align: left;\">270.4</td><td style = \"text-align: left;\">-74.9</td><td style = \"text-align: left;\">4.64</td><td style = \"text-align: left;\">124.6</td><td style = \"text-align: left;\">23.95</td></tr><tr><td class = \"rowNumber\" style = \"font-weight: bold; text-align: right;\">52558</td><td style = \"text-align: right;\">2009</td><td style = \"text-align: right;\">365</td><td style = \"text-align: left;\">2009-12-31T23:30:00</td><td style = \"text-align: right;\">1410</td><td style = \"text-align: left;\">-12.44</td><td style = \"text-align: left;\">270.4</td><td style = \"text-align: left;\">-74.9</td><td style = \"text-align: left;\">5.315</td><td style = \"text-align: left;\">114.9</td><td style = \"text-align: left;\">24.01</td></tr><tr><td class = \"rowNumber\" style = \"font-weight: bold; text-align: right;\">52559</td><td style = \"text-align: right;\">2009</td><td style = \"text-align: right;\">365</td><td style = \"text-align: left;\">2009-12-31T23:40:00</td><td style = \"text-align: right;\">1420</td><td style = \"text-align: left;\">-12.42</td><td style = \"text-align: left;\">270.4</td><td style = \"text-align: left;\">-74.9</td><td style = \"text-align: left;\">5.292</td><td style = \"text-align: left;\">119.0</td><td style = \"text-align: left;\">23.97</td></tr><tr><td class = \"rowNumber\" style = \"font-weight: bold; text-align: right;\">52560</td><td style = \"text-align: right;\">2009</td><td style = \"text-align: right;\">365</td><td style = \"text-align: left;\">2009-12-31T23:50:00</td><td style = \"text-align: right;\">1430</td><td style = \"text-align: left;\">-12.42</td><td style = \"text-align: left;\">270.4</td><td style = \"text-align: left;\">-74.9</td><td style = \"text-align: left;\">5.894</td><td style = \"text-align: left;\">124.0</td><td style = \"text-align: left;\">24.06</td></tr></tbody></table></div>"
      ],
      "text/latex": [
       "\\begin{tabular}{r|cccccccccc}\n",
       "\t& year & day & datetm & min & ws\\_25 & wd\\_25 & tp\\_25 & ws\\_50 & wd\\_50 & tp\\_50\\\\\n",
       "\t\\hline\n",
       "\t& Int64 & Int64 & DateTime & Int64 & Any & Any & Any & Any & Any & Any\\\\\n",
       "\t\\hline\n",
       "\t1 & 2009 & 1 & 2009-01-01T00:00:00 & 0 & 2.241 & 328.0 & 24.64 & 3.571 & 322.1 & 25.54 \\\\\n",
       "\t2 & 2009 & 1 & 2009-01-01T00:10:00 & 10 & 2.386 & 351.4 & 24.29 & 3.29 & 342.0 & 24.96 \\\\\n",
       "\t3 & 2009 & 1 & 2009-01-01T00:20:00 & 20 & 1.907 & 355.1 & 24.19 & 2.996 & 341.3 & 25.07 \\\\\n",
       "\t4 & 2009 & 1 & 2009-01-01T00:30:00 & 30 & 1.113 & 84.9 & 24.24 & 1.613 & 0.517 & 25.16 \\\\\n",
       "\t5 & 2009 & 1 & 2009-01-01T00:40:00 & 40 & 4.031 & 173.4 & 24.76 & 4.694 & 177.7 & 25.18 \\\\\n",
       "\t6 & 2009 & 1 & 2009-01-01T00:50:00 & 50 & 1.185 & 241.9 & 25.97 & 1.447 & 198.3 & 25.98 \\\\\n",
       "\t7 & 2009 & 1 & 2009-01-01T01:00:00 & 60 & 1.727 & 56.83 & 25.16 & 2.488 & 90.4 & 25.04 \\\\\n",
       "\t8 & 2009 & 1 & 2009-01-01T01:10:00 & 70 & 2.053 & 32.83 & 25.48 & 1.88 & 49.17 & 25.78 \\\\\n",
       "\t9 & 2009 & 1 & 2009-01-01T01:20:00 & 80 & 1.76 & 27.14 & 25.32 & 2.135 & 47.11 & 25.96 \\\\\n",
       "\t10 & 2009 & 1 & 2009-01-01T01:30:00 & 90 & 2.207 & 353.9 & 25.81 & 2.958 & 358.2 & 26.39 \\\\\n",
       "\t11 & 2009 & 1 & 2009-01-01T01:40:00 & 100 & 2.628 & 322.5 & 25.98 & 4.047 & 321.7 & 26.16 \\\\\n",
       "\t12 & 2009 & 1 & 2009-01-01T01:50:00 & 110 & 3.135 & 322.8 & 25.22 & 5.443 & 325.8 & 25.26 \\\\\n",
       "\t13 & 2009 & 1 & 2009-01-01T02:00:00 & 120 & 2.688 & 322.5 & 24.74 & 5.29 & 324.7 & 24.81 \\\\\n",
       "\t14 & 2009 & 1 & 2009-01-01T02:10:00 & 130 & 3.323 & 310.9 & 24.53 & 5.493 & 318.0 & 24.49 \\\\\n",
       "\t15 & 2009 & 1 & 2009-01-01T02:20:00 & 140 & 4.914 & 308.2 & 24.33 & 7.31 & 315.7 & 24.2 \\\\\n",
       "\t16 & 2009 & 1 & 2009-01-01T02:30:00 & 150 & 4.595 & 308.1 & 23.36 & 7.0 & 318.1 & 23.13 \\\\\n",
       "\t17 & 2009 & 1 & 2009-01-01T02:40:00 & 160 & 4.062 & 317.4 & 22.14 & 6.903 & 326.0 & 22.09 \\\\\n",
       "\t18 & 2009 & 1 & 2009-01-01T02:50:00 & 170 & 3.746 & 311.6 & 21.89 & 5.758 & 320.7 & 21.93 \\\\\n",
       "\t19 & 2009 & 1 & 2009-01-01T03:00:00 & 180 & 4.154 & 300.1 & 21.74 & 6.427 & 309.6 & 21.7 \\\\\n",
       "\t20 & 2009 & 1 & 2009-01-01T03:10:00 & 190 & 3.14 & 279.2 & 21.85 & 4.912 & 286.0 & 21.76 \\\\\n",
       "\t21 & 2009 & 1 & 2009-01-01T03:20:00 & 200 & 3.032 & 274.4 & 21.96 & 4.657 & 283.0 & 21.87 \\\\\n",
       "\t22 & 2009 & 1 & 2009-01-01T03:30:00 & 210 & 3.549 & 252.6 & 22.08 & 4.993 & 266.7 & 22.0 \\\\\n",
       "\t23 & 2009 & 1 & 2009-01-01T03:40:00 & 220 & 2.454 & 264.8 & 22.05 & 3.945 & 270.7 & 21.94 \\\\\n",
       "\t24 & 2009 & 1 & 2009-01-01T03:50:00 & 230 & 2.101 & 262.1 & 21.98 & 3.032 & 266.9 & 21.85 \\\\\n",
       "\t$\\dots$ & $\\dots$ & $\\dots$ & $\\dots$ & $\\dots$ & $\\dots$ & $\\dots$ & $\\dots$ & $\\dots$ & $\\dots$ & $\\dots$ \\\\\n",
       "\\end{tabular}\n"
      ],
      "text/plain": [
       "\u001b[1m52560×10 DataFrame\u001b[0m\n",
       "\u001b[1m   Row \u001b[0m│\u001b[1m year  \u001b[0m\u001b[1m day   \u001b[0m\u001b[1m datetm              \u001b[0m\u001b[1m min   \u001b[0m\u001b[1m ws_25  \u001b[0m\u001b[1m wd_25 \u001b[0m\u001b[1m tp_25 \u001b[0m\u001b[1m ws_50\u001b[0m ⋯\n",
       "       │\u001b[90m Int64 \u001b[0m\u001b[90m Int64 \u001b[0m\u001b[90m DateTime            \u001b[0m\u001b[90m Int64 \u001b[0m\u001b[90m Any    \u001b[0m\u001b[90m Any   \u001b[0m\u001b[90m Any   \u001b[0m\u001b[90m Any  \u001b[0m ⋯\n",
       "───────┼────────────────────────────────────────────────────────────────────────\n",
       "     1 │  2009      1  2009-01-01T00:00:00      0  2.241   328.0  24.64  3.571 ⋯\n",
       "     2 │  2009      1  2009-01-01T00:10:00     10  2.386   351.4  24.29  3.29\n",
       "     3 │  2009      1  2009-01-01T00:20:00     20  1.907   355.1  24.19  2.996\n",
       "     4 │  2009      1  2009-01-01T00:30:00     30  1.113   84.9   24.24  1.613\n",
       "     5 │  2009      1  2009-01-01T00:40:00     40  4.031   173.4  24.76  4.694 ⋯\n",
       "     6 │  2009      1  2009-01-01T00:50:00     50  1.185   241.9  25.97  1.447\n",
       "     7 │  2009      1  2009-01-01T01:00:00     60  1.727   56.83  25.16  2.488\n",
       "     8 │  2009      1  2009-01-01T01:10:00     70  2.053   32.83  25.48  1.88\n",
       "   ⋮   │   ⋮      ⋮             ⋮             ⋮      ⋮       ⋮      ⋮      ⋮   ⋱\n",
       " 52554 │  2009    365  2009-12-31T22:50:00   1370  -12.43  270.4  -74.9  4.07  ⋯\n",
       " 52555 │  2009    365  2009-12-31T23:00:00   1380  -12.44  270.4  -74.9  3.872\n",
       " 52556 │  2009    365  2009-12-31T23:10:00   1390  -12.44  270.4  -74.9  4.288\n",
       " 52557 │  2009    365  2009-12-31T23:20:00   1400  -12.44  270.4  -74.9  4.64\n",
       " 52558 │  2009    365  2009-12-31T23:30:00   1410  -12.44  270.4  -74.9  5.315 ⋯\n",
       " 52559 │  2009    365  2009-12-31T23:40:00   1420  -12.42  270.4  -74.9  5.292\n",
       " 52560 │  2009    365  2009-12-31T23:50:00   1430  -12.42  270.4  -74.9  5.894\n",
       "\u001b[36m                                                2 columns and 52545 rows omitted\u001b[0m"
      ]
     },
     "metadata": {},
     "output_type": "display_data"
    }
   ],
   "source": [
    "import CSV as CSV\n",
    "import DataFrames: DataFrame\n",
    "import DataFrames as DataFrames\n",
    "using Printf\n",
    "\n",
    "header = [\"year\",\"day\",\"datetm\",\"min\",\"ws_25\",\"wd_25\",\"tp_25\",\"ws_50\",\"wd_50\",\"tp_50\",\"missing\"]\n",
    "dfs=Any[]\n",
    "\n",
    "for month = 1:12\n",
    "    monthstr = @sprintf \"%02d\" month\n",
    "    df = CSV.read(\n",
    "        \"./data/ORN09$(monthstr)WD.csv\", DataFrame;\n",
    "        header=header, \n",
    "        delim=';',\n",
    "        dateformat=\"yyyy-mm-dd HH:MM:SS\",\n",
    "        drop=[:missing]\n",
    "    )\n",
    "\n",
    "    push!(dfs, df)\n",
    "end\n",
    "\n",
    "result = reduce(vcat, dfs)\n",
    "result"
   ]
  }
 ],
 "metadata": {
  "kernelspec": {
   "display_name": "Julia 1.8.5",
   "language": "julia",
   "name": "julia-1.8"
  },
  "language_info": {
   "file_extension": ".jl",
   "mimetype": "application/julia",
   "name": "julia",
   "version": "1.8.5"
  },
  "orig_nbformat": 4
 },
 "nbformat": 4,
 "nbformat_minor": 2
}
